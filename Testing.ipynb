{
 "cells": [
  {
   "cell_type": "code",
   "execution_count": 1,
   "metadata": {},
   "outputs": [],
   "source": [
    "# importing necessary packages\n",
    "\n",
    "import torch\n",
    "import torchvision\n",
    "from torchvision import models,transforms\n",
    "from torch.utils.data import DataLoader\n",
    "from torch import nn,optim\n",
    "from collections import OrderedDict\n",
    "from pathlib import Path\n",
    "import pandas as pd\n",
    "from PIL import Image\n",
    "import matplotlib.image as mpimg\n",
    "from tqdm import tqdm_notebook as tqdm\n",
    "import os"
   ]
  },
  {
   "cell_type": "code",
   "execution_count": 2,
   "metadata": {},
   "outputs": [
    {
     "name": "stderr",
     "output_type": "stream",
     "text": [
      "/home/pranavsm24/.local/lib/python3.6/site-packages/sklearn/ensemble/weight_boosting.py:29: DeprecationWarning: numpy.core.umath_tests is an internal NumPy module and should not be imported. It will be removed in a future NumPy release.\n",
      "  from numpy.core.umath_tests import inner1d\n"
     ]
    }
   ],
   "source": [
    "from skll.metrics import kappa"
   ]
  },
  {
   "cell_type": "markdown",
   "metadata": {},
   "source": [
    "## Loading the saved model "
   ]
  },
  {
   "cell_type": "code",
   "execution_count": 3,
   "metadata": {},
   "outputs": [],
   "source": [
    "\n",
    "state_dict = torch.load('model_checkpoint.pth')\n",
    "\n",
    "model = models.resnet50(pretrained=True)\n",
    "for params in model.parameters():\n",
    "    params.requires_grad = False\n",
    "    \n",
    "fc  = nn.Sequential(OrderedDict([\n",
    "                                ('batchnorm1',nn.BatchNorm1d(2048,eps=1e-05,momentum=0.1,affine=True)),\n",
    "                                ('dropout1',nn.Dropout(p=0.5)),\n",
    "                                ('fc1',nn.Linear(2048,512,bias=True)),\n",
    "                                ('batchnorm2',nn.BatchNorm1d(512,eps=1e-05,momentum=0.1,affine=True)),\n",
    "                                ('relu',nn.ReLU()),\n",
    "                                ('dropout2',nn.Dropout(p=0.6)),\n",
    "                                ('fc2',nn.Linear(512,5,bias=True)),\n",
    "                                ('output',nn.LogSoftmax(dim=1))\n",
    "                                ]))\n",
    "\n",
    "AdaptiveConcatPool2d = nn.Sequential(OrderedDict([\n",
    "                                                 ('ap',nn.AdaptiveAvgPool2d(output_size=(1,1))),\n",
    "                                                 ('mp',nn.AdaptiveMaxPool2d(output_size=(1,1)))]))       \n",
    "\n",
    "model.avgpool = AdaptiveConcatPool2d\n",
    "model.fc = fc"
   ]
  },
  {
   "cell_type": "code",
   "execution_count": 4,
   "metadata": {},
   "outputs": [],
   "source": [
    "model.load_state_dict(state_dict['state_dict'])"
   ]
  },
  {
   "cell_type": "markdown",
   "metadata": {},
   "source": [
    "## Loading the images in test set"
   ]
  },
  {
   "cell_type": "code",
   "execution_count": 6,
   "metadata": {},
   "outputs": [],
   "source": [
    "## Loading the DataLoader\n",
    "\n",
    "%load_ext autoreload\n",
    "%autoreload 2\n",
    "from data_loader import DiabeticRetinopathyDataset"
   ]
  },
  {
   "cell_type": "code",
   "execution_count": 7,
   "metadata": {},
   "outputs": [],
   "source": [
    "test_transforms = transforms.Compose([transforms.ToTensor(),\n",
    "                                      transforms.Normalize((0.485, 0.456, 0.406),(0.229, 0.224, 0.225))])\n",
    "        \n",
    "# Create the test loader\n",
    "\n",
    "test_dataset = DiabeticRetinopathyDataset(csv_file = 'projects/Test/retinopathy_solution.csv',\n",
    "                                              root_dir = 'projects/Test/Processed_test_images',\n",
    "                                              transform = test_transforms)"
   ]
  },
  {
   "cell_type": "code",
   "execution_count": 8,
   "metadata": {},
   "outputs": [],
   "source": [
    "\n",
    "test_loader = DataLoader(test_dataset,batch_size=128,shuffle=False)"
   ]
  },
  {
   "cell_type": "markdown",
   "metadata": {},
   "source": [
    "## Evaluating the model"
   ]
  },
  {
   "cell_type": "code",
   "execution_count": 9,
   "metadata": {},
   "outputs": [],
   "source": [
    "model = model.cuda()"
   ]
  },
  {
   "cell_type": "code",
   "execution_count": 10,
   "metadata": {},
   "outputs": [
    {
     "data": {
      "application/vnd.jupyter.widget-view+json": {
       "model_id": "f1a6841aac244d2a904618a96a626a38",
       "version_major": 2,
       "version_minor": 0
      },
      "text/plain": [
       "HBox(children=(IntProgress(value=0, max=419), HTML(value='')))"
      ]
     },
     "metadata": {},
     "output_type": "display_data"
    },
    {
     "name": "stdout",
     "output_type": "stream",
     "text": [
      "\n"
     ]
    }
   ],
   "source": [
    "all_true_labels = []\n",
    "all_predictions = []\n",
    "    \n",
    "for images,labels in tqdm(test_loader):\n",
    "    \n",
    "    images,labels = images.cuda(),labels.cuda()\n",
    "        \n",
    "    model.eval()\n",
    "    \n",
    "    with torch.no_grad():\n",
    "        output = model.forward(images)\n",
    "        \n",
    "        \n",
    "    values = torch.exp(output)\n",
    "    val_equal = values.max(dim=1)[1]\n",
    "        \n",
    "    all_true_labels.extend(list(labels.cpu().numpy()))\n",
    "    all_predictions.extend(list(val_equal.cpu().numpy()))\n",
    "        \n",
    "   "
   ]
  },
  {
   "cell_type": "code",
   "execution_count": 11,
   "metadata": {},
   "outputs": [
    {
     "name": "stdout",
     "output_type": "stream",
     "text": [
      "The final kappa score on the test set is = 0.360\n"
     ]
    }
   ],
   "source": [
    "kappa_score = kappa(all_true_labels,all_predictions,weights='quadratic')\n",
    "print('The final kappa score on the test set is = {:.3f}'.format(kappa_score))"
   ]
  },
  {
   "cell_type": "code",
   "execution_count": 23,
   "metadata": {},
   "outputs": [
    {
     "name": "stdout",
     "output_type": "stream",
     "text": [
      "Cl Act Pre\n",
      "0 39533 21307\n",
      "1 3762 15259\n",
      "2 7861 9652\n",
      "3 1214 4284\n",
      "4 1206 3074\n"
     ]
    }
   ],
   "source": [
    "print('Cl','Act','Pre')\n",
    "for i in range(5):\n",
    "    print(i,all_true_labels.count(i),all_predictions.count(i))\n"
   ]
  }
 ],
 "metadata": {
  "kernelspec": {
   "display_name": "Python 3",
   "language": "python",
   "name": "python3"
  },
  "language_info": {
   "codemirror_mode": {
    "name": "ipython",
    "version": 3
   },
   "file_extension": ".py",
   "mimetype": "text/x-python",
   "name": "python",
   "nbconvert_exporter": "python",
   "pygments_lexer": "ipython3",
   "version": "3.6.5"
  }
 },
 "nbformat": 4,
 "nbformat_minor": 2
}
